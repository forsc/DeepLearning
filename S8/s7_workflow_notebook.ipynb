{
  "nbformat": 4,
  "nbformat_minor": 0,
  "metadata": {
    "colab": {
      "name": "s7_workflow_notebook.ipynb",
      "provenance": [],
      "collapsed_sections": [],
      "authorship_tag": "ABX9TyMuY7wyKXUiLnW620mN9ypX",
      "include_colab_link": true
    },
    "kernelspec": {
      "name": "python3",
      "display_name": "Python 3",
      "language": "python"
    }
  },
  "cells": [
    {
      "cell_type": "markdown",
      "metadata": {
        "id": "view-in-github",
        "colab_type": "text"
      },
      "source": [
        "<a href=\"https://colab.research.google.com/github/nitinranjansharma/EVA5B2/blob/main/s7/s7_workflow_notebook.ipynb\" target=\"_parent\"><img src=\"https://colab.research.google.com/assets/colab-badge.svg\" alt=\"Open In Colab\"/></a>"
      ]
    },
    {
      "cell_type": "code",
      "metadata": {
        "id": "3TwrkS0cyS-o"
      },
      "source": [
        "import torch\n",
        "import torchvision\n",
        "import torchvision.transforms as transforms\n",
        "import torch.nn as nn\n",
        "import torch.nn.functional as F"
      ],
      "execution_count": 1,
      "outputs": []
    },
    {
      "cell_type": "code",
      "metadata": {
        "colab": {
          "base_uri": "https://localhost:8080/"
        },
        "id": "oBrBnkH8ytuw",
        "outputId": "70e12228-5a44-4540-8510-c903e203539f"
      },
      "source": [
        "## importing and transforming data\n",
        "from read_inputs import read_transform_inputs\n",
        "trainset, trainloader, testset, testloader, classes = read_transform_inputs()"
      ],
      "execution_count": 2,
      "outputs": [
        {
          "output_type": "stream",
          "name": "stdout",
          "text": [
            "Files already downloaded and verified\n",
            "Files already downloaded and verified\n"
          ]
        }
      ]
    },
    {
      "cell_type": "code",
      "metadata": {
        "colab": {
          "base_uri": "https://localhost:8080/",
          "height": 155
        },
        "id": "QxUy9a7UzBBc",
        "outputId": "4c5051f3-09f9-43be-822f-416c0f9908fb"
      },
      "source": [
        "import matplotlib.pyplot as plt\n",
        "import numpy as np\n",
        "\n",
        "# functions to show an image\n",
        "\n",
        "\n",
        "def imshow(img):\n",
        "    img = img / 2 + 0.5     # unnormalize\n",
        "    npimg = img.numpy()\n",
        "    plt.imshow(np.transpose(npimg, (1, 2, 0)))\n",
        "\n",
        "\n",
        "# get some random training images\n",
        "dataiter = iter(trainloader)\n",
        "images, labels = dataiter.next()\n",
        "\n",
        "# show images\n",
        "imshow(torchvision.utils.make_grid(images))\n",
        "# print labels\n",
        "print(' '.join('%5s' % classes[labels[j]] for j in range(4)))"
      ],
      "execution_count": 3,
      "outputs": [
        {
          "output_type": "stream",
          "name": "stdout",
          "text": [
            " ship  frog   cat horse\n"
          ]
        }
      ]
    },
    {
      "cell_type": "code",
      "metadata": {
        "colab": {
          "base_uri": "https://localhost:8080/"
        },
        "id": "gwges8PlzExj",
        "outputId": "8e2d83bb-6490-4dcc-927b-89243c7463c0"
      },
      "source": [
        "## defining model\n",
        "## defining model\n",
        "\n",
        "from define_model import ResNet\n",
        "from define_model import BasicBlock\n",
        "from define_model import Bottleneck\n",
        "!pip install torchsummary\n",
        "from torchsummary import summary\n",
        "\n",
        "use_cuda = torch.cuda.is_available()\n",
        "device = torch.device(\"cuda\" if use_cuda else \"cpu\")\n",
        "print(device)\n",
        "\n",
        "model = ResNet(BasicBlock, [2, 2, 2, 2]).to(device)\n",
        "summary(model, input_size=(3, 32, 32))"
      ],
      "execution_count": 4,
      "outputs": [
        {
          "output_type": "stream",
          "name": "stdout",
          "text": [
            "Requirement already satisfied: torchsummary in c:\\programdata\\anaconda3\\lib\\site-packages (1.5.1)\n",
            "cuda\n",
            "----------------------------------------------------------------\n",
            "        Layer (type)               Output Shape         Param #\n",
            "================================================================\n",
            "            Conv2d-1           [-1, 64, 32, 32]           1,728\n",
            "       BatchNorm2d-2           [-1, 64, 32, 32]             128\n",
            "            Conv2d-3           [-1, 64, 32, 32]          36,864\n",
            "       BatchNorm2d-4           [-1, 64, 32, 32]             128\n",
            "            Conv2d-5           [-1, 64, 32, 32]          36,864\n",
            "       BatchNorm2d-6           [-1, 64, 32, 32]             128\n",
            "        BasicBlock-7           [-1, 64, 32, 32]               0\n",
            "            Conv2d-8           [-1, 64, 32, 32]          36,864\n",
            "       BatchNorm2d-9           [-1, 64, 32, 32]             128\n",
            "           Conv2d-10           [-1, 64, 32, 32]          36,864\n",
            "      BatchNorm2d-11           [-1, 64, 32, 32]             128\n",
            "       BasicBlock-12           [-1, 64, 32, 32]               0\n",
            "           Conv2d-13          [-1, 128, 16, 16]          73,728\n",
            "      BatchNorm2d-14          [-1, 128, 16, 16]             256\n",
            "           Conv2d-15          [-1, 128, 16, 16]         147,456\n",
            "      BatchNorm2d-16          [-1, 128, 16, 16]             256\n",
            "           Conv2d-17          [-1, 128, 16, 16]           8,192\n",
            "      BatchNorm2d-18          [-1, 128, 16, 16]             256\n",
            "       BasicBlock-19          [-1, 128, 16, 16]               0\n",
            "           Conv2d-20          [-1, 128, 16, 16]         147,456\n",
            "      BatchNorm2d-21          [-1, 128, 16, 16]             256\n",
            "           Conv2d-22          [-1, 128, 16, 16]         147,456\n",
            "      BatchNorm2d-23          [-1, 128, 16, 16]             256\n",
            "       BasicBlock-24          [-1, 128, 16, 16]               0\n",
            "           Conv2d-25            [-1, 256, 8, 8]         294,912\n",
            "      BatchNorm2d-26            [-1, 256, 8, 8]             512\n",
            "           Conv2d-27            [-1, 256, 8, 8]         589,824\n",
            "      BatchNorm2d-28            [-1, 256, 8, 8]             512\n",
            "           Conv2d-29            [-1, 256, 8, 8]          32,768\n",
            "      BatchNorm2d-30            [-1, 256, 8, 8]             512\n",
            "       BasicBlock-31            [-1, 256, 8, 8]               0\n",
            "           Conv2d-32            [-1, 256, 8, 8]         589,824\n",
            "      BatchNorm2d-33            [-1, 256, 8, 8]             512\n",
            "           Conv2d-34            [-1, 256, 8, 8]         589,824\n",
            "      BatchNorm2d-35            [-1, 256, 8, 8]             512\n",
            "       BasicBlock-36            [-1, 256, 8, 8]               0\n",
            "           Conv2d-37            [-1, 512, 4, 4]       1,179,648\n",
            "      BatchNorm2d-38            [-1, 512, 4, 4]           1,024\n",
            "           Conv2d-39            [-1, 512, 4, 4]       2,359,296\n",
            "      BatchNorm2d-40            [-1, 512, 4, 4]           1,024\n",
            "           Conv2d-41            [-1, 512, 4, 4]         131,072\n",
            "      BatchNorm2d-42            [-1, 512, 4, 4]           1,024\n",
            "       BasicBlock-43            [-1, 512, 4, 4]               0\n",
            "           Conv2d-44            [-1, 512, 4, 4]       2,359,296\n",
            "      BatchNorm2d-45            [-1, 512, 4, 4]           1,024\n",
            "           Conv2d-46            [-1, 512, 4, 4]       2,359,296\n",
            "      BatchNorm2d-47            [-1, 512, 4, 4]           1,024\n",
            "       BasicBlock-48            [-1, 512, 4, 4]               0\n",
            "           Linear-49                   [-1, 10]           5,130\n",
            "================================================================\n",
            "Total params: 11,173,962\n",
            "Trainable params: 11,173,962\n",
            "Non-trainable params: 0\n",
            "----------------------------------------------------------------\n",
            "Input size (MB): 0.01\n",
            "Forward/backward pass size (MB): 11.25\n",
            "Params size (MB): 42.63\n",
            "Estimated Total Size (MB): 53.89\n",
            "----------------------------------------------------------------\n"
          ]
        }
      ]
    },
    {
      "cell_type": "code",
      "metadata": {
        "id": "qrdHaIO2zUAg"
      },
      "source": [
        "##defining optimiser\n",
        "from define_optim import optim_define\n",
        "optimizer = optim_define(model)"
      ],
      "execution_count": 5,
      "outputs": []
    },
    {
      "cell_type": "code",
      "metadata": {
        "id": "QPjAESeC2err"
      },
      "source": [
        "## defining accuracy check and defining the training class\n",
        "from truth_checker import truth_checker\n",
        "from training_class import training_class\n",
        "clf = training_class(model=model,trainloader = trainloader,testloader= testloader,device=device,\n",
        "                     epoch=50,optimizer=optimizer)"
      ],
      "execution_count": 6,
      "outputs": []
    },
    {
      "cell_type": "code",
      "metadata": {
        "colab": {
          "base_uri": "https://localhost:8080/"
        },
        "id": "0EECIMoQ3I51",
        "outputId": "da19d29f-5b0c-405b-97c3-c1243fef9fd7"
      },
      "source": [
        "## training process initiation\n",
        "from train_iteration import train\n",
        "criterion = nn.CrossEntropyLoss()\n",
        "clf.fit()"
      ],
      "execution_count": 7,
      "outputs": [
        {
          "output_type": "stream",
          "name": "stdout",
          "text": [
            "epoch [0] train accuracy train - NA : test accuracy 0.445\n",
            "epoch [1] train accuracy train - NA : test accuracy 0.554\n",
            "epoch [2] train accuracy train - NA : test accuracy 0.641\n",
            "epoch [3] train accuracy train - NA : test accuracy 0.665\n",
            "epoch [4] train accuracy train - NA : test accuracy 0.700\n",
            "epoch [5] train accuracy train - NA : test accuracy 0.727\n",
            "epoch [6] train accuracy train - NA : test accuracy 0.755\n",
            "epoch [7] train accuracy train - NA : test accuracy 0.784\n",
            "epoch [8] train accuracy train - NA : test accuracy 0.800\n",
            "epoch [9] train accuracy train - NA : test accuracy 0.798\n",
            "epoch [10] train accuracy train - NA : test accuracy 0.801\n",
            "epoch [11] train accuracy train - NA : test accuracy 0.819\n",
            "epoch [12] train accuracy train - NA : test accuracy 0.823\n",
            "epoch [13] train accuracy train - NA : test accuracy 0.832\n",
            "epoch [14] train accuracy train - NA : test accuracy 0.835\n",
            "epoch [15] train accuracy train - NA : test accuracy 0.837\n",
            "epoch [16] train accuracy train - NA : test accuracy 0.847\n",
            "epoch [17] train accuracy train - NA : test accuracy 0.839\n",
            "epoch [18] train accuracy train - NA : test accuracy 0.847\n",
            "epoch [19] train accuracy train - NA : test accuracy 0.838\n",
            "epoch [20] train accuracy train - NA : test accuracy 0.848\n",
            "epoch [21] train accuracy train - NA : test accuracy 0.850\n",
            "epoch [22] train accuracy train - NA : test accuracy 0.849\n",
            "epoch [23] train accuracy train - NA : test accuracy 0.857\n",
            "epoch [24] train accuracy train - NA : test accuracy 0.863\n",
            "epoch [25] train accuracy train - NA : test accuracy 0.855\n",
            "epoch [26] train accuracy train - NA : test accuracy 0.847\n",
            "epoch [27] train accuracy train - NA : test accuracy 0.861\n",
            "epoch [28] train accuracy train - NA : test accuracy 0.854\n",
            "epoch [29] train accuracy train - NA : test accuracy 0.859\n",
            "epoch [30] train accuracy train - NA : test accuracy 0.860\n",
            "epoch [31] train accuracy train - NA : test accuracy 0.854\n",
            "epoch [32] train accuracy train - NA : test accuracy 0.858\n",
            "epoch [33] train accuracy train - NA : test accuracy 0.860\n",
            "epoch [34] train accuracy train - NA : test accuracy 0.860\n",
            "epoch [35] train accuracy train - NA : test accuracy 0.861\n",
            "epoch [36] train accuracy train - NA : test accuracy 0.856\n",
            "epoch [37] train accuracy train - NA : test accuracy 0.861\n",
            "epoch [38] train accuracy train - NA : test accuracy 0.863\n",
            "epoch [39] train accuracy train - NA : test accuracy 0.865\n",
            "epoch [40] train accuracy train - NA : test accuracy 0.859\n",
            "epoch [41] train accuracy train - NA : test accuracy 0.859\n",
            "epoch [42] train accuracy train - NA : test accuracy 0.862\n",
            "epoch [43] train accuracy train - NA : test accuracy 0.865\n",
            "epoch [44] train accuracy train - NA : test accuracy 0.867\n",
            "epoch [45] train accuracy train - NA : test accuracy 0.863\n",
            "epoch [46] train accuracy train - NA : test accuracy 0.860\n",
            "epoch [47] train accuracy train - NA : test accuracy 0.865\n",
            "epoch [48] train accuracy train - NA : test accuracy 0.863\n",
            "epoch [49] train accuracy train - NA : test accuracy 0.862\n"
          ]
        }
      ]
    },
    {
      "cell_type": "code",
      "metadata": {
        "colab": {
          "base_uri": "https://localhost:8080/",
          "height": 155
        },
        "id": "KL5bbPjW8SQE",
        "outputId": "cc146b23-cf83-4329-c5f0-ed5f13d797bd"
      },
      "source": [
        "## checking test images\n",
        "\n",
        "dataiter = iter(testloader)\n",
        "images, labels = dataiter.next()\n",
        "\n",
        "# print images\n",
        "imshow(torchvision.utils.make_grid(images[:4]))\n",
        "print('GroundTruth: ', ' '.join('%5s' % classes[labels[j]] for j in range(4)))"
      ],
      "execution_count": 8,
      "outputs": [
        {
          "output_type": "stream",
          "name": "stdout",
          "text": [
            "GroundTruth:    cat  ship  ship plane\n"
          ]
        },
        {
          "output_type": "display_data",
          "data": {
            "text/plain": "<Figure size 432x288 with 1 Axes>",
            "image/svg+xml": "<?xml version=\"1.0\" encoding=\"utf-8\" standalone=\"no\"?>\r\n<!DOCTYPE svg PUBLIC \"-//W3C//DTD SVG 1.1//EN\"\r\n  \"http://www.w3.org/Graphics/SVG/1.1/DTD/svg11.dtd\">\r\n<!-- Created with matplotlib (https://matplotlib.org/) -->\r\n<svg height=\"121.003431pt\" version=\"1.1\" viewBox=\"0 0 368.925 121.003431\" width=\"368.925pt\" xmlns=\"http://www.w3.org/2000/svg\" xmlns:xlink=\"http://www.w3.org/1999/xlink\">\r\n <defs>\r\n  <style type=\"text/css\">\r\n*{stroke-linecap:butt;stroke-linejoin:round;}\r\n  </style>\r\n </defs>\r\n <g id=\"figure_1\">\r\n  <g id=\"patch_1\">\r\n   <path d=\"M -0 121.003431 \r\nL 368.925 121.003431 \r\nL 368.925 0 \r\nL -0 0 \r\nz\r\n\" style=\"fill:none;\"/>\r\n  </g>\r\n  <g id=\"axes_1\">\r\n   <g id=\"patch_2\">\r\n    <path d=\"M 26.925 97.125306 \r\nL 361.725 97.125306 \r\nL 361.725 9.786175 \r\nL 26.925 9.786175 \r\nz\r\n\" style=\"fill:#ffffff;\"/>\r\n   </g>\r\n   <g clip-path=\"url(#pe847760388)\">\r\n    <image height=\"88\" id=\"imaged3f6750719\" transform=\"scale(1 -1)translate(0 -88)\" width=\"335\" x=\"26.925\" xlink:href=\"data:image/png;base64,\r\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\" y=\"-9.125306\"/>\r\n   </g>\r\n   <g id=\"matplotlib.axis_1\">\r\n    <g id=\"xtick_1\">\r\n     <g id=\"line2d_1\">\r\n      <defs>\r\n       <path d=\"M 0 0 \r\nL 0 3.5 \r\n\" id=\"m9611989eef\" style=\"stroke:#000000;stroke-width:0.8;\"/>\r\n      </defs>\r\n      <g>\r\n       <use style=\"stroke:#000000;stroke-width:0.8;\" x=\"28.138043\" xlink:href=\"#m9611989eef\" y=\"97.125306\"/>\r\n      </g>\r\n     </g>\r\n     <g id=\"text_1\">\r\n      <!-- 0 -->\r\n      <defs>\r\n       <path d=\"M 31.78125 66.40625 \r\nQ 24.171875 66.40625 20.328125 58.90625 \r\nQ 16.5 51.421875 16.5 36.375 \r\nQ 16.5 21.390625 20.328125 13.890625 \r\nQ 24.171875 6.390625 31.78125 6.390625 \r\nQ 39.453125 6.390625 43.28125 13.890625 \r\nQ 47.125 21.390625 47.125 36.375 \r\nQ 47.125 51.421875 43.28125 58.90625 \r\nQ 39.453125 66.40625 31.78125 66.40625 \r\nz\r\nM 31.78125 74.21875 \r\nQ 44.046875 74.21875 50.515625 64.515625 \r\nQ 56.984375 54.828125 56.984375 36.375 \r\nQ 56.984375 17.96875 50.515625 8.265625 \r\nQ 44.046875 -1.421875 31.78125 -1.421875 \r\nQ 19.53125 -1.421875 13.0625 8.265625 \r\nQ 6.59375 17.96875 6.59375 36.375 \r\nQ 6.59375 54.828125 13.0625 64.515625 \r\nQ 19.53125 74.21875 31.78125 74.21875 \r\nz\r\n\" id=\"DejaVuSans-48\"/>\r\n      </defs>\r\n      <g transform=\"translate(24.956793 111.723743)scale(0.1 -0.1)\">\r\n       <use xlink:href=\"#DejaVuSans-48\"/>\r\n      </g>\r\n     </g>\r\n    </g>\r\n    <g id=\"xtick_2\">\r\n     <g id=\"line2d_2\">\r\n      <g>\r\n       <use style=\"stroke:#000000;stroke-width:0.8;\" x=\"76.659783\" xlink:href=\"#m9611989eef\" y=\"97.125306\"/>\r\n      </g>\r\n     </g>\r\n     <g id=\"text_2\">\r\n      <!-- 20 -->\r\n      <defs>\r\n       <path d=\"M 19.1875 8.296875 \r\nL 53.609375 8.296875 \r\nL 53.609375 0 \r\nL 7.328125 0 \r\nL 7.328125 8.296875 \r\nQ 12.9375 14.109375 22.625 23.890625 \r\nQ 32.328125 33.6875 34.8125 36.53125 \r\nQ 39.546875 41.84375 41.421875 45.53125 \r\nQ 43.3125 49.21875 43.3125 52.78125 \r\nQ 43.3125 58.59375 39.234375 62.25 \r\nQ 35.15625 65.921875 28.609375 65.921875 \r\nQ 23.96875 65.921875 18.8125 64.3125 \r\nQ 13.671875 62.703125 7.8125 59.421875 \r\nL 7.8125 69.390625 \r\nQ 13.765625 71.78125 18.9375 73 \r\nQ 24.125 74.21875 28.421875 74.21875 \r\nQ 39.75 74.21875 46.484375 68.546875 \r\nQ 53.21875 62.890625 53.21875 53.421875 \r\nQ 53.21875 48.921875 51.53125 44.890625 \r\nQ 49.859375 40.875 45.40625 35.40625 \r\nQ 44.1875 33.984375 37.640625 27.21875 \r\nQ 31.109375 20.453125 19.1875 8.296875 \r\nz\r\n\" id=\"DejaVuSans-50\"/>\r\n      </defs>\r\n      <g transform=\"translate(70.297283 111.723743)scale(0.1 -0.1)\">\r\n       <use xlink:href=\"#DejaVuSans-50\"/>\r\n       <use x=\"63.623047\" xlink:href=\"#DejaVuSans-48\"/>\r\n      </g>\r\n     </g>\r\n    </g>\r\n    <g id=\"xtick_3\">\r\n     <g id=\"line2d_3\">\r\n      <g>\r\n       <use style=\"stroke:#000000;stroke-width:0.8;\" x=\"125.181522\" xlink:href=\"#m9611989eef\" y=\"97.125306\"/>\r\n      </g>\r\n     </g>\r\n     <g id=\"text_3\">\r\n      <!-- 40 -->\r\n      <defs>\r\n       <path d=\"M 37.796875 64.3125 \r\nL 12.890625 25.390625 \r\nL 37.796875 25.390625 \r\nz\r\nM 35.203125 72.90625 \r\nL 47.609375 72.90625 \r\nL 47.609375 25.390625 \r\nL 58.015625 25.390625 \r\nL 58.015625 17.1875 \r\nL 47.609375 17.1875 \r\nL 47.609375 0 \r\nL 37.796875 0 \r\nL 37.796875 17.1875 \r\nL 4.890625 17.1875 \r\nL 4.890625 26.703125 \r\nz\r\n\" id=\"DejaVuSans-52\"/>\r\n      </defs>\r\n      <g transform=\"translate(118.819022 111.723743)scale(0.1 -0.1)\">\r\n       <use xlink:href=\"#DejaVuSans-52\"/>\r\n       <use x=\"63.623047\" xlink:href=\"#DejaVuSans-48\"/>\r\n      </g>\r\n     </g>\r\n    </g>\r\n    <g id=\"xtick_4\">\r\n     <g id=\"line2d_4\">\r\n      <g>\r\n       <use style=\"stroke:#000000;stroke-width:0.8;\" x=\"173.703261\" xlink:href=\"#m9611989eef\" y=\"97.125306\"/>\r\n      </g>\r\n     </g>\r\n     <g id=\"text_4\">\r\n      <!-- 60 -->\r\n      <defs>\r\n       <path d=\"M 33.015625 40.375 \r\nQ 26.375 40.375 22.484375 35.828125 \r\nQ 18.609375 31.296875 18.609375 23.390625 \r\nQ 18.609375 15.53125 22.484375 10.953125 \r\nQ 26.375 6.390625 33.015625 6.390625 \r\nQ 39.65625 6.390625 43.53125 10.953125 \r\nQ 47.40625 15.53125 47.40625 23.390625 \r\nQ 47.40625 31.296875 43.53125 35.828125 \r\nQ 39.65625 40.375 33.015625 40.375 \r\nz\r\nM 52.59375 71.296875 \r\nL 52.59375 62.3125 \r\nQ 48.875 64.0625 45.09375 64.984375 \r\nQ 41.3125 65.921875 37.59375 65.921875 \r\nQ 27.828125 65.921875 22.671875 59.328125 \r\nQ 17.53125 52.734375 16.796875 39.40625 \r\nQ 19.671875 43.65625 24.015625 45.921875 \r\nQ 28.375 48.1875 33.59375 48.1875 \r\nQ 44.578125 48.1875 50.953125 41.515625 \r\nQ 57.328125 34.859375 57.328125 23.390625 \r\nQ 57.328125 12.15625 50.6875 5.359375 \r\nQ 44.046875 -1.421875 33.015625 -1.421875 \r\nQ 20.359375 -1.421875 13.671875 8.265625 \r\nQ 6.984375 17.96875 6.984375 36.375 \r\nQ 6.984375 53.65625 15.1875 63.9375 \r\nQ 23.390625 74.21875 37.203125 74.21875 \r\nQ 40.921875 74.21875 44.703125 73.484375 \r\nQ 48.484375 72.75 52.59375 71.296875 \r\nz\r\n\" id=\"DejaVuSans-54\"/>\r\n      </defs>\r\n      <g transform=\"translate(167.340761 111.723743)scale(0.1 -0.1)\">\r\n       <use xlink:href=\"#DejaVuSans-54\"/>\r\n       <use x=\"63.623047\" xlink:href=\"#DejaVuSans-48\"/>\r\n      </g>\r\n     </g>\r\n    </g>\r\n    <g id=\"xtick_5\">\r\n     <g id=\"line2d_5\">\r\n      <g>\r\n       <use style=\"stroke:#000000;stroke-width:0.8;\" x=\"222.225\" xlink:href=\"#m9611989eef\" y=\"97.125306\"/>\r\n      </g>\r\n     </g>\r\n     <g id=\"text_5\">\r\n      <!-- 80 -->\r\n      <defs>\r\n       <path d=\"M 31.78125 34.625 \r\nQ 24.75 34.625 20.71875 30.859375 \r\nQ 16.703125 27.09375 16.703125 20.515625 \r\nQ 16.703125 13.921875 20.71875 10.15625 \r\nQ 24.75 6.390625 31.78125 6.390625 \r\nQ 38.8125 6.390625 42.859375 10.171875 \r\nQ 46.921875 13.96875 46.921875 20.515625 \r\nQ 46.921875 27.09375 42.890625 30.859375 \r\nQ 38.875 34.625 31.78125 34.625 \r\nz\r\nM 21.921875 38.8125 \r\nQ 15.578125 40.375 12.03125 44.71875 \r\nQ 8.5 49.078125 8.5 55.328125 \r\nQ 8.5 64.0625 14.71875 69.140625 \r\nQ 20.953125 74.21875 31.78125 74.21875 \r\nQ 42.671875 74.21875 48.875 69.140625 \r\nQ 55.078125 64.0625 55.078125 55.328125 \r\nQ 55.078125 49.078125 51.53125 44.71875 \r\nQ 48 40.375 41.703125 38.8125 \r\nQ 48.828125 37.15625 52.796875 32.3125 \r\nQ 56.78125 27.484375 56.78125 20.515625 \r\nQ 56.78125 9.90625 50.3125 4.234375 \r\nQ 43.84375 -1.421875 31.78125 -1.421875 \r\nQ 19.734375 -1.421875 13.25 4.234375 \r\nQ 6.78125 9.90625 6.78125 20.515625 \r\nQ 6.78125 27.484375 10.78125 32.3125 \r\nQ 14.796875 37.15625 21.921875 38.8125 \r\nz\r\nM 18.3125 54.390625 \r\nQ 18.3125 48.734375 21.84375 45.5625 \r\nQ 25.390625 42.390625 31.78125 42.390625 \r\nQ 38.140625 42.390625 41.71875 45.5625 \r\nQ 45.3125 48.734375 45.3125 54.390625 \r\nQ 45.3125 60.0625 41.71875 63.234375 \r\nQ 38.140625 66.40625 31.78125 66.40625 \r\nQ 25.390625 66.40625 21.84375 63.234375 \r\nQ 18.3125 60.0625 18.3125 54.390625 \r\nz\r\n\" id=\"DejaVuSans-56\"/>\r\n      </defs>\r\n      <g transform=\"translate(215.8625 111.723743)scale(0.1 -0.1)\">\r\n       <use xlink:href=\"#DejaVuSans-56\"/>\r\n       <use x=\"63.623047\" xlink:href=\"#DejaVuSans-48\"/>\r\n      </g>\r\n     </g>\r\n    </g>\r\n    <g id=\"xtick_6\">\r\n     <g id=\"line2d_6\">\r\n      <g>\r\n       <use style=\"stroke:#000000;stroke-width:0.8;\" x=\"270.746739\" xlink:href=\"#m9611989eef\" y=\"97.125306\"/>\r\n      </g>\r\n     </g>\r\n     <g id=\"text_6\">\r\n      <!-- 100 -->\r\n      <defs>\r\n       <path d=\"M 12.40625 8.296875 \r\nL 28.515625 8.296875 \r\nL 28.515625 63.921875 \r\nL 10.984375 60.40625 \r\nL 10.984375 69.390625 \r\nL 28.421875 72.90625 \r\nL 38.28125 72.90625 \r\nL 38.28125 8.296875 \r\nL 54.390625 8.296875 \r\nL 54.390625 0 \r\nL 12.40625 0 \r\nz\r\n\" id=\"DejaVuSans-49\"/>\r\n      </defs>\r\n      <g transform=\"translate(261.202989 111.723743)scale(0.1 -0.1)\">\r\n       <use xlink:href=\"#DejaVuSans-49\"/>\r\n       <use x=\"63.623047\" xlink:href=\"#DejaVuSans-48\"/>\r\n       <use x=\"127.246094\" xlink:href=\"#DejaVuSans-48\"/>\r\n      </g>\r\n     </g>\r\n    </g>\r\n    <g id=\"xtick_7\">\r\n     <g id=\"line2d_7\">\r\n      <g>\r\n       <use style=\"stroke:#000000;stroke-width:0.8;\" x=\"319.268478\" xlink:href=\"#m9611989eef\" y=\"97.125306\"/>\r\n      </g>\r\n     </g>\r\n     <g id=\"text_7\">\r\n      <!-- 120 -->\r\n      <g transform=\"translate(309.724728 111.723743)scale(0.1 -0.1)\">\r\n       <use xlink:href=\"#DejaVuSans-49\"/>\r\n       <use x=\"63.623047\" xlink:href=\"#DejaVuSans-50\"/>\r\n       <use x=\"127.246094\" xlink:href=\"#DejaVuSans-48\"/>\r\n      </g>\r\n     </g>\r\n    </g>\r\n   </g>\r\n   <g id=\"matplotlib.axis_2\">\r\n    <g id=\"ytick_1\">\r\n     <g id=\"line2d_8\">\r\n      <defs>\r\n       <path d=\"M 0 0 \r\nL -3.5 0 \r\n\" id=\"m857418de0c\" style=\"stroke:#000000;stroke-width:0.8;\"/>\r\n      </defs>\r\n      <g>\r\n       <use style=\"stroke:#000000;stroke-width:0.8;\" x=\"26.925\" xlink:href=\"#m857418de0c\" y=\"10.999219\"/>\r\n      </g>\r\n     </g>\r\n     <g id=\"text_8\">\r\n      <!-- 0 -->\r\n      <g transform=\"translate(13.5625 14.798437)scale(0.1 -0.1)\">\r\n       <use xlink:href=\"#DejaVuSans-48\"/>\r\n      </g>\r\n     </g>\r\n    </g>\r\n    <g id=\"ytick_2\">\r\n     <g id=\"line2d_9\">\r\n      <g>\r\n       <use style=\"stroke:#000000;stroke-width:0.8;\" x=\"26.925\" xlink:href=\"#m857418de0c\" y=\"35.260088\"/>\r\n      </g>\r\n     </g>\r\n     <g id=\"text_9\">\r\n      <!-- 10 -->\r\n      <g transform=\"translate(7.2 39.059307)scale(0.1 -0.1)\">\r\n       <use xlink:href=\"#DejaVuSans-49\"/>\r\n       <use x=\"63.623047\" xlink:href=\"#DejaVuSans-48\"/>\r\n      </g>\r\n     </g>\r\n    </g>\r\n    <g id=\"ytick_3\">\r\n     <g id=\"line2d_10\">\r\n      <g>\r\n       <use style=\"stroke:#000000;stroke-width:0.8;\" x=\"26.925\" xlink:href=\"#m857418de0c\" y=\"59.520958\"/>\r\n      </g>\r\n     </g>\r\n     <g id=\"text_10\">\r\n      <!-- 20 -->\r\n      <g transform=\"translate(7.2 63.320177)scale(0.1 -0.1)\">\r\n       <use xlink:href=\"#DejaVuSans-50\"/>\r\n       <use x=\"63.623047\" xlink:href=\"#DejaVuSans-48\"/>\r\n      </g>\r\n     </g>\r\n    </g>\r\n    <g id=\"ytick_4\">\r\n     <g id=\"line2d_11\">\r\n      <g>\r\n       <use style=\"stroke:#000000;stroke-width:0.8;\" x=\"26.925\" xlink:href=\"#m857418de0c\" y=\"83.781827\"/>\r\n      </g>\r\n     </g>\r\n     <g id=\"text_11\">\r\n      <!-- 30 -->\r\n      <defs>\r\n       <path d=\"M 40.578125 39.3125 \r\nQ 47.65625 37.796875 51.625 33 \r\nQ 55.609375 28.21875 55.609375 21.1875 \r\nQ 55.609375 10.40625 48.1875 4.484375 \r\nQ 40.765625 -1.421875 27.09375 -1.421875 \r\nQ 22.515625 -1.421875 17.65625 -0.515625 \r\nQ 12.796875 0.390625 7.625 2.203125 \r\nL 7.625 11.71875 \r\nQ 11.71875 9.328125 16.59375 8.109375 \r\nQ 21.484375 6.890625 26.8125 6.890625 \r\nQ 36.078125 6.890625 40.9375 10.546875 \r\nQ 45.796875 14.203125 45.796875 21.1875 \r\nQ 45.796875 27.640625 41.28125 31.265625 \r\nQ 36.765625 34.90625 28.71875 34.90625 \r\nL 20.21875 34.90625 \r\nL 20.21875 43.015625 \r\nL 29.109375 43.015625 \r\nQ 36.375 43.015625 40.234375 45.921875 \r\nQ 44.09375 48.828125 44.09375 54.296875 \r\nQ 44.09375 59.90625 40.109375 62.90625 \r\nQ 36.140625 65.921875 28.71875 65.921875 \r\nQ 24.65625 65.921875 20.015625 65.03125 \r\nQ 15.375 64.15625 9.8125 62.3125 \r\nL 9.8125 71.09375 \r\nQ 15.4375 72.65625 20.34375 73.4375 \r\nQ 25.25 74.21875 29.59375 74.21875 \r\nQ 40.828125 74.21875 47.359375 69.109375 \r\nQ 53.90625 64.015625 53.90625 55.328125 \r\nQ 53.90625 49.265625 50.4375 45.09375 \r\nQ 46.96875 40.921875 40.578125 39.3125 \r\nz\r\n\" id=\"DejaVuSans-51\"/>\r\n      </defs>\r\n      <g transform=\"translate(7.2 87.581046)scale(0.1 -0.1)\">\r\n       <use xlink:href=\"#DejaVuSans-51\"/>\r\n       <use x=\"63.623047\" xlink:href=\"#DejaVuSans-48\"/>\r\n      </g>\r\n     </g>\r\n    </g>\r\n   </g>\r\n   <g id=\"patch_3\">\r\n    <path d=\"M 26.925 97.125306 \r\nL 26.925 9.786175 \r\n\" style=\"fill:none;stroke:#000000;stroke-linecap:square;stroke-linejoin:miter;stroke-width:0.8;\"/>\r\n   </g>\r\n   <g id=\"patch_4\">\r\n    <path d=\"M 361.725 97.125306 \r\nL 361.725 9.786175 \r\n\" style=\"fill:none;stroke:#000000;stroke-linecap:square;stroke-linejoin:miter;stroke-width:0.8;\"/>\r\n   </g>\r\n   <g id=\"patch_5\">\r\n    <path d=\"M 26.925 97.125306 \r\nL 361.725 97.125306 \r\n\" style=\"fill:none;stroke:#000000;stroke-linecap:square;stroke-linejoin:miter;stroke-width:0.8;\"/>\r\n   </g>\r\n   <g id=\"patch_6\">\r\n    <path d=\"M 26.925 9.786175 \r\nL 361.725 9.786175 \r\n\" style=\"fill:none;stroke:#000000;stroke-linecap:square;stroke-linejoin:miter;stroke-width:0.8;\"/>\r\n   </g>\r\n  </g>\r\n </g>\r\n <defs>\r\n  <clipPath id=\"pe847760388\">\r\n   <rect height=\"87.33913\" width=\"334.8\" x=\"26.925\" y=\"9.786175\"/>\r\n  </clipPath>\r\n </defs>\r\n</svg>\r\n",
            "image/png": "[encoded data removed]"
          },
          "metadata": {
            "needs_background": "light"
          }
        }
      ]
    },
    {
      "cell_type": "code",
      "metadata": {
        "id": "MXiY5rla4Qqf"
      },
      "source": [
        "from accuracy_check import check_accuracy     \n",
        "check_accuracy(testloader,device,model)"
      ],
      "execution_count": 9,
      "outputs": [
        {
          "output_type": "stream",
          "name": "stdout",
          "text": [
            "Accuracy of the network on the 10000 test images: 86 %\n"
          ]
        },
        {
          "output_type": "execute_result",
          "data": {
            "text/plain": [
              "86.01"
            ]
          },
          "metadata": {},
          "execution_count": 9
        }
      ]
    },
    {
      "cell_type": "code",
      "metadata": {
        "id": "E5BHEtkNIZv8"
      },
      "source": [
        "##82.47%"
      ],
      "execution_count": null,
      "outputs": []
    },
    {
      "cell_type": "code",
      "metadata": {
        "id": "A7W7Fx6aIjPW"
      },
      "source": [],
      "execution_count": null,
      "outputs": []
    }
  ]
}