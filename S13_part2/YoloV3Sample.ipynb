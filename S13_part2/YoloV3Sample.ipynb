{
  "nbformat": 4,
  "nbformat_minor": 0,
  "metadata": {
    "colab": {
      "name": "YoloV3Sample.ipynb",
      "provenance": [],
      "collapsed_sections": []
    },
    "kernelspec": {
      "name": "python3",
      "display_name": "Python 3",
      "language": "python"
    },
    "accelerator": "GPU"
  },
  "cells": [
    {
      "cell_type": "code",
      "metadata": {
        "id": "oJWPCDSv0gw3",
        "colab": {
          "base_uri": "https://localhost:8080/",
          "height": 54
        },
        "outputId": "ce60fe5f-9b00-4661-bb36-e486a5cef4e1"
      },
      "source": [
        "import time\n",
        "import glob\n",
        "import torch\n",
        "import os\n",
        "\n",
        "from IPython.display import Image, clear_output \n",
        "print('PyTorch %s %s' % (torch.__version__, torch.cuda.get_device_properties(0) if torch.cuda.is_available() else 'CPU'))"
      ],
      "execution_count": 2,
      "outputs": [
        {
          "output_type": "stream",
          "name": "stdout",
          "text": [
            "PyTorch 1.7.0+cu101 _CudaDeviceProperties(name='GeForce RTX 2070 SUPER', major=7, minor=5, total_memory=8192MB, multi_processor_count=40)\n"
          ]
        }
      ]
    },
    {
      "cell_type": "code",
      "execution_count": 11,
      "metadata": {},
      "outputs": [],
      "source": [
        "r = torch.cuda.memory_reserved(0) "
      ]
    },
    {
      "cell_type": "code",
      "execution_count": 12,
      "metadata": {},
      "outputs": [
        {
          "output_type": "execute_result",
          "data": {
            "text/plain": [
              "0"
            ]
          },
          "metadata": {},
          "execution_count": 12
        }
      ],
      "source": [
        "r"
      ]
    },
    {
      "cell_type": "code",
      "metadata": {
        "id": "c5LJYRxG02VQ",
        "colab": {
          "base_uri": "https://localhost:8080/",
          "height": 34
        },
        "outputId": "32eb9891-2cc8-497a-e2ad-c8fad70ee285"
      },
      "source": [
        "ls"
      ],
      "execution_count": 2,
      "outputs": [
        {
          "output_type": "stream",
          "name": "stdout",
          "text": [
            " Volume in drive D is New Volume\n",
            " Volume Serial Number is 8E8E-BB8C\n",
            "\n",
            " Directory of d:\\Assignment_ML_Engineer\\EVA_4.0\\S13_part2\n",
            "\n",
            "20-03-2021  21:33    <DIR>          .\n",
            "20-03-2021  21:33    <DIR>          ..\n",
            "20-03-2021  21:31    <DIR>          __pycache__\n",
            "20-03-2021  21:21    <DIR>          annotation_tool\n",
            "20-03-2021  21:21    <DIR>          cfg\n",
            "20-03-2021  21:44    <DIR>          data\n",
            "20-03-2021  21:21    <DIR>          data_2\n",
            "20-03-2021  21:21             8,179 detect.py\n",
            "20-03-2021  21:21            22,258 models.py\n",
            "20-03-2021  21:21    <DIR>          output\n",
            "20-03-2021  21:21             3,782 README.md\n",
            "20-03-2021  21:21           246,121 results.json\n",
            "20-03-2021  21:21           226,970 results.png\n",
            "20-03-2021  21:37    <DIR>          runs\n",
            "20-03-2021  21:21            11,670 test.py\n",
            "20-03-2021  21:21               910 ting\n",
            "20-03-2021  21:21            23,704 train.py\n",
            "20-03-2021  21:21            12,299 ubdivisions=1\n",
            "20-03-2021  21:21    <DIR>          utils\n",
            "20-03-2021  21:21             1,389 vim.exe.stackdump\n",
            "20-03-2021  21:33    <DIR>          weights\n",
            "20-03-2021  21:20           500,733 YoloV3Sample.ipynb\n",
            "              11 File(s)      1,058,015 bytes\n",
            "              11 Dir(s)  349,728,825,344 bytes free\n"
          ]
        }
      ]
    },
    {
      "cell_type": "code",
      "metadata": {
        "id": "z_j3dXQk1L3s",
        "colab": {
          "base_uri": "https://localhost:8080/",
          "height": 582
        },
        "outputId": "ee7b36a7-ee96-4287-8ada-464514595361"
      },
      "source": [
        "python train.py --data data/custom.data --batch 3 --cache --epochs 3 --nosave"
      ],
      "execution_count": 3,
      "outputs": []
    },
    {
      "cell_type": "code",
      "metadata": {
        "id": "ElYu4RG01NVw",
        "colab": {
          "base_uri": "https://localhost:8080/",
          "height": 1000
        },
        "outputId": "1b2833ae-ec7e-40e4-b5aa-2bf8b3af353c"
      },
      "source": [
        "python train.py --data data/custom.data --batch 10 --cache --cfg cfg/yolov3-custom.cfg --epochs 300 --nosave"
      ],
      "execution_count": null,
      "outputs": []
    },
    {
      "cell_type": "code",
      "metadata": {
        "id": "31oeHX0u2Vwd",
        "colab": {
          "base_uri": "https://localhost:8080/",
          "height": 494
        },
        "outputId": "6ec4adbd-5e2a-4813-8649-a529c95b21f8"
      },
      "source": [
        "!python detect.py --conf-thres 0.1 --output out_out"
      ],
      "execution_count": null,
      "outputs": []
    },
    {
      "cell_type": "code",
      "metadata": {
        "id": "eaSbzlOh3XTB",
        "colab": {
          "base_uri": "https://localhost:8080/",
          "height": 551
        },
        "outputId": "d271c631-0e40-40d2-cd70-0e1437269860"
      },
      "source": [
        "Image(filename='out_out/img001.jpg', width=600)"
      ],
      "execution_count": null,
      "outputs": []
    },
    {
      "cell_type": "code",
      "metadata": {
        "id": "weNdrTVi86Ws",
        "colab": {
          "base_uri": "https://localhost:8080/",
          "height": 376
        },
        "outputId": "42b0bb5c-f6b5-4203-b522-0988543b9632"
      },
      "source": [
        "Image(filename='out_out/img002.jpg', width=600)"
      ],
      "execution_count": null,
      "outputs": []
    },
    {
      "cell_type": "code",
      "metadata": {
        "id": "Qn0bFsKp9WQ8",
        "colab": {
          "base_uri": "https://localhost:8080/",
          "height": 417
        },
        "outputId": "79c3aaef-bd06-457e-8c12-289797f36871"
      },
      "source": [
        "Image(filename='out_out/img003.jpg', width=600)"
      ],
      "execution_count": null,
      "outputs": []
    },
    {
      "cell_type": "code",
      "metadata": {
        "id": "6IEVAxJW9Xr4",
        "colab": {
          "base_uri": "https://localhost:8080/",
          "height": 268
        },
        "outputId": "34435963-fa0a-45d6-b8d5-c9935b9f34f2"
      },
      "source": [
        "Image(filename='out_out/img020.jpg', width=600)"
      ],
      "execution_count": null,
      "outputs": []
    },
    {
      "cell_type": "code",
      "metadata": {
        "id": "HEg3-v5r9Z8e"
      },
      "source": [
        "torch.cuda.empty_cache()"
      ],
      "execution_count": 3,
      "outputs": []
    },
    {
      "cell_type": "code",
      "execution_count": null,
      "metadata": {},
      "outputs": [],
      "source": []
    }
  ]
}