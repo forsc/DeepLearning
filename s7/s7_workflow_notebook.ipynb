{
  "nbformat": 4,
  "nbformat_minor": 0,
  "metadata": {
    "colab": {
      "name": "s7_workflow_notebook.ipynb",
      "provenance": [],
      "collapsed_sections": [],
      "authorship_tag": "ABX9TyMuY7wyKXUiLnW620mN9ypX",
      "include_colab_link": true
    },
    "kernelspec": {
      "name": "python3",
      "display_name": "Python 3",
      "language": "python"
    }
  },
  "cells": [
    {
      "cell_type": "markdown",
      "metadata": {
        "id": "view-in-github",
        "colab_type": "text"
      },
      "source": [
        "<a href=\"https://colab.research.google.com/github/nitinranjansharma/EVA5B2/blob/main/s7/s7_workflow_notebook.ipynb\" target=\"_parent\"><img src=\"https://colab.research.google.com/assets/colab-badge.svg\" alt=\"Open In Colab\"/></a>"
      ]
    },
    {
      "cell_type": "code",
      "metadata": {
        "id": "3TwrkS0cyS-o"
      },
      "source": [
        "import torch\n",
        "import torchvision\n",
        "import torchvision.transforms as transforms\n",
        "import torch.nn as nn\n",
        "import torch.nn.functional as F"
      ],
      "execution_count": 1,
      "outputs": []
    },
    {
      "cell_type": "code",
      "metadata": {
        "colab": {
          "base_uri": "https://localhost:8080/"
        },
        "id": "oBrBnkH8ytuw",
        "outputId": "70e12228-5a44-4540-8510-c903e203539f"
      },
      "source": [
        "## importing and transforming data\n",
        "from read_inputs import read_transform_inputs\n",
        "trainset, trainloader, testset, testloader, classes = read_transform_inputs()"
      ],
      "execution_count": 2,
      "outputs": [
        {
          "output_type": "stream",
          "name": "stdout",
          "text": [
            "Files already downloaded and verified\n",
            "Files already downloaded and verified\n"
          ]
        }
      ]
    },
    {
      "cell_type": "code",
      "metadata": {
        "colab": {
          "base_uri": "https://localhost:8080/",
          "height": 155
        },
        "id": "QxUy9a7UzBBc",
        "outputId": "4c5051f3-09f9-43be-822f-416c0f9908fb"
      },
      "source": [
        "import matplotlib.pyplot as plt\n",
        "import numpy as np\n",
        "\n",
        "# functions to show an image\n",
        "\n",
        "\n",
        "def imshow(img):\n",
        "    img = img / 2 + 0.5     # unnormalize\n",
        "    npimg = img.numpy()\n",
        "    plt.imshow(np.transpose(npimg, (1, 2, 0)))\n",
        "\n",
        "\n",
        "# get some random training images\n",
        "dataiter = iter(trainloader)\n",
        "images, labels = dataiter.next()\n",
        "\n",
        "# show images\n",
        "imshow(torchvision.utils.make_grid(images))\n",
        "# print labels\n",
        "print(' '.join('%5s' % classes[labels[j]] for j in range(4)))"
      ],
      "execution_count": 3,
      "outputs": [
        {
          "output_type": "stream",
          "name": "stdout",
          "text": [
            "plane   dog  frog   cat\n"
          ]
        }
      ]
    },
    {
      "cell_type": "code",
      "metadata": {
        "colab": {
          "base_uri": "https://localhost:8080/"
        },
        "id": "gwges8PlzExj",
        "outputId": "8e2d83bb-6490-4dcc-927b-89243c7463c0"
      },
      "source": [
        "## defining model\n",
        "\n",
        "from define_model import Net\n",
        "!pip install torchsummary\n",
        "from torchsummary import summary\n",
        "\n",
        "use_cuda = torch.cuda.is_available()\n",
        "device = torch.device(\"cuda\" if use_cuda else \"cpu\")\n",
        "print(device)\n",
        "model = Net().to(device)\n",
        "summary(model, input_size=(3, 32, 32))"
      ],
      "execution_count": 4,
      "outputs": [
        {
          "output_type": "stream",
          "name": "stdout",
          "text": [
            "Requirement already satisfied: torchsummary in c:\\programdata\\anaconda3\\lib\\site-packages (1.5.1)\n",
            "cuda\n",
            "----------------------------------------------------------------\n",
            "        Layer (type)               Output Shape         Param #\n",
            "================================================================\n",
            "            Conv2d-1           [-1, 32, 32, 32]             864\n",
            "              ReLU-2           [-1, 32, 32, 32]               0\n",
            "       BatchNorm2d-3           [-1, 32, 32, 32]              64\n",
            "            Conv2d-4           [-1, 64, 32, 32]          18,432\n",
            "              ReLU-5           [-1, 64, 32, 32]               0\n",
            "       BatchNorm2d-6           [-1, 64, 32, 32]             128\n",
            "            Conv2d-7           [-1, 64, 32, 32]           4,096\n",
            "         MaxPool2d-8           [-1, 64, 16, 16]               0\n",
            "            Conv2d-9          [-1, 128, 12, 12]          73,728\n",
            "             ReLU-10          [-1, 128, 12, 12]               0\n",
            "      BatchNorm2d-11          [-1, 128, 12, 12]             256\n",
            "        MaxPool2d-12            [-1, 128, 6, 6]               0\n",
            "           Conv2d-13            [-1, 128, 8, 8]         147,456\n",
            "             ReLU-14            [-1, 128, 8, 8]               0\n",
            "      BatchNorm2d-15            [-1, 128, 8, 8]             256\n",
            "        MaxPool2d-16            [-1, 128, 4, 4]               0\n",
            "           Conv2d-17            [-1, 128, 4, 4]           1,280\n",
            "           Conv2d-18             [-1, 64, 4, 4]           8,256\n",
            "           Conv2d-19             [-1, 64, 2, 2]             640\n",
            "           Conv2d-20             [-1, 32, 2, 2]           2,080\n",
            "        AvgPool2d-21             [-1, 32, 1, 1]               0\n",
            "           Conv2d-22             [-1, 10, 1, 1]             320\n",
            "================================================================\n",
            "Total params: 257,856\n",
            "Trainable params: 257,856\n",
            "Non-trainable params: 0\n",
            "----------------------------------------------------------------\n",
            "Input size (MB): 0.01\n",
            "Forward/backward pass size (MB): 3.56\n",
            "Params size (MB): 0.98\n",
            "Estimated Total Size (MB): 4.56\n",
            "----------------------------------------------------------------\n"
          ]
        }
      ]
    },
    {
      "cell_type": "code",
      "metadata": {
        "id": "qrdHaIO2zUAg"
      },
      "source": [
        "##defining optimiser\n",
        "from define_optim import optim_define\n",
        "optimizer = optim_define(model)"
      ],
      "execution_count": 5,
      "outputs": []
    },
    {
      "cell_type": "code",
      "metadata": {
        "id": "QPjAESeC2err"
      },
      "source": [
        "## defining accuracy check and defining the training class\n",
        "from truth_checker import truth_checker\n",
        "from training_class import training_class\n",
        "clf = training_class(model=model,trainloader = trainloader,testloader= testloader,device=device,\n",
        "                     epoch=100,optimizer=optimizer)"
      ],
      "execution_count": 6,
      "outputs": []
    },
    {
      "cell_type": "code",
      "metadata": {
        "colab": {
          "base_uri": "https://localhost:8080/"
        },
        "id": "0EECIMoQ3I51",
        "outputId": "da19d29f-5b0c-405b-97c3-c1243fef9fd7"
      },
      "source": [
        "## training process initiation\n",
        "from train_iteration import train\n",
        "criterion = nn.CrossEntropyLoss()\n",
        "clf.fit()"
      ],
      "execution_count": 7,
      "outputs": [
        {
          "output_type": "stream",
          "name": "stdout",
          "text": [
            "epoch [0] train accuracy train - NA : test accuracy 0.518\n",
            "epoch [1] train accuracy train - NA : test accuracy 0.608\n",
            "epoch [2] train accuracy train - NA : test accuracy 0.663\n",
            "epoch [3] train accuracy train - NA : test accuracy 0.694\n",
            "epoch [4] train accuracy train - NA : test accuracy 0.701\n",
            "epoch [5] train accuracy train - NA : test accuracy 0.730\n",
            "epoch [6] train accuracy train - NA : test accuracy 0.735\n",
            "epoch [7] train accuracy train - NA : test accuracy 0.741\n",
            "epoch [8] train accuracy train - NA : test accuracy 0.760\n",
            "epoch [9] train accuracy train - NA : test accuracy 0.757\n",
            "epoch [10] train accuracy train - NA : test accuracy 0.764\n",
            "epoch [11] train accuracy train - NA : test accuracy 0.775\n",
            "epoch [12] train accuracy train - NA : test accuracy 0.768\n",
            "epoch [13] train accuracy train - NA : test accuracy 0.781\n",
            "epoch [14] train accuracy train - NA : test accuracy 0.778\n",
            "epoch [15] train accuracy train - NA : test accuracy 0.779\n",
            "epoch [16] train accuracy train - NA : test accuracy 0.789\n",
            "epoch [17] train accuracy train - NA : test accuracy 0.788\n",
            "epoch [18] train accuracy train - NA : test accuracy 0.790\n",
            "epoch [19] train accuracy train - NA : test accuracy 0.791\n",
            "epoch [20] train accuracy train - NA : test accuracy 0.791\n",
            "epoch [21] train accuracy train - NA : test accuracy 0.796\n",
            "epoch [22] train accuracy train - NA : test accuracy 0.795\n",
            "epoch [23] train accuracy train - NA : test accuracy 0.800\n",
            "epoch [24] train accuracy train - NA : test accuracy 0.796\n",
            "epoch [25] train accuracy train - NA : test accuracy 0.801\n",
            "epoch [26] train accuracy train - NA : test accuracy 0.798\n",
            "epoch [27] train accuracy train - NA : test accuracy 0.799\n",
            "epoch [28] train accuracy train - NA : test accuracy 0.803\n",
            "epoch [29] train accuracy train - NA : test accuracy 0.802\n",
            "epoch [30] train accuracy train - NA : test accuracy 0.799\n",
            "epoch [31] train accuracy train - NA : test accuracy 0.802\n",
            "epoch [32] train accuracy train - NA : test accuracy 0.810\n",
            "epoch [33] train accuracy train - NA : test accuracy 0.808\n",
            "epoch [34] train accuracy train - NA : test accuracy 0.806\n",
            "epoch [35] train accuracy train - NA : test accuracy 0.810\n",
            "epoch [36] train accuracy train - NA : test accuracy 0.811\n",
            "epoch [37] train accuracy train - NA : test accuracy 0.804\n",
            "epoch [38] train accuracy train - NA : test accuracy 0.808\n",
            "epoch [39] train accuracy train - NA : test accuracy 0.810\n",
            "epoch [40] train accuracy train - NA : test accuracy 0.810\n",
            "epoch [41] train accuracy train - NA : test accuracy 0.807\n",
            "epoch [42] train accuracy train - NA : test accuracy 0.819\n",
            "epoch [43] train accuracy train - NA : test accuracy 0.812\n",
            "epoch [44] train accuracy train - NA : test accuracy 0.817\n",
            "epoch [45] train accuracy train - NA : test accuracy 0.812\n",
            "epoch [46] train accuracy train - NA : test accuracy 0.813\n",
            "epoch [47] train accuracy train - NA : test accuracy 0.821\n",
            "epoch [48] train accuracy train - NA : test accuracy 0.812\n",
            "epoch [49] train accuracy train - NA : test accuracy 0.814\n",
            "epoch [50] train accuracy train - NA : test accuracy 0.810\n",
            "epoch [51] train accuracy train - NA : test accuracy 0.814\n",
            "epoch [52] train accuracy train - NA : test accuracy 0.817\n",
            "epoch [53] train accuracy train - NA : test accuracy 0.815\n",
            "epoch [54] train accuracy train - NA : test accuracy 0.814\n",
            "epoch [55] train accuracy train - NA : test accuracy 0.822\n",
            "epoch [56] train accuracy train - NA : test accuracy 0.817\n",
            "epoch [57] train accuracy train - NA : test accuracy 0.816\n",
            "epoch [58] train accuracy train - NA : test accuracy 0.816\n",
            "epoch [59] train accuracy train - NA : test accuracy 0.810\n",
            "epoch [60] train accuracy train - NA : test accuracy 0.821\n",
            "epoch [61] train accuracy train - NA : test accuracy 0.817\n",
            "epoch [62] train accuracy train - NA : test accuracy 0.814\n",
            "epoch [63] train accuracy train - NA : test accuracy 0.819\n",
            "epoch [64] train accuracy train - NA : test accuracy 0.817\n",
            "epoch [65] train accuracy train - NA : test accuracy 0.820\n",
            "epoch [66] train accuracy train - NA : test accuracy 0.816\n",
            "epoch [67] train accuracy train - NA : test accuracy 0.822\n",
            "epoch [68] train accuracy train - NA : test accuracy 0.820\n",
            "epoch [69] train accuracy train - NA : test accuracy 0.818\n",
            "epoch [70] train accuracy train - NA : test accuracy 0.822\n",
            "epoch [71] train accuracy train - NA : test accuracy 0.819\n",
            "epoch [72] train accuracy train - NA : test accuracy 0.821\n",
            "epoch [73] train accuracy train - NA : test accuracy 0.817\n",
            "epoch [74] train accuracy train - NA : test accuracy 0.820\n",
            "epoch [75] train accuracy train - NA : test accuracy 0.819\n",
            "epoch [76] train accuracy train - NA : test accuracy 0.818\n",
            "epoch [77] train accuracy train - NA : test accuracy 0.820\n",
            "epoch [78] train accuracy train - NA : test accuracy 0.818\n",
            "epoch [79] train accuracy train - NA : test accuracy 0.816\n",
            "epoch [80] train accuracy train - NA : test accuracy 0.812\n",
            "epoch [81] train accuracy train - NA : test accuracy 0.824\n",
            "epoch [82] train accuracy train - NA : test accuracy 0.824\n",
            "epoch [83] train accuracy train - NA : test accuracy 0.821\n",
            "epoch [84] train accuracy train - NA : test accuracy 0.818\n",
            "epoch [85] train accuracy train - NA : test accuracy 0.819\n",
            "epoch [86] train accuracy train - NA : test accuracy 0.823\n",
            "epoch [87] train accuracy train - NA : test accuracy 0.822\n",
            "epoch [88] train accuracy train - NA : test accuracy 0.826\n",
            "epoch [89] train accuracy train - NA : test accuracy 0.825\n",
            "epoch [90] train accuracy train - NA : test accuracy 0.824\n",
            "epoch [91] train accuracy train - NA : test accuracy 0.820\n",
            "epoch [92] train accuracy train - NA : test accuracy 0.825\n",
            "epoch [93] train accuracy train - NA : test accuracy 0.820\n",
            "epoch [94] train accuracy train - NA : test accuracy 0.818\n",
            "epoch [95] train accuracy train - NA : test accuracy 0.824\n",
            "epoch [96] train accuracy train - NA : test accuracy 0.823\n",
            "epoch [97] train accuracy train - NA : test accuracy 0.822\n",
            "epoch [98] train accuracy train - NA : test accuracy 0.822\n",
            "epoch [99] train accuracy train - NA : test accuracy 0.820\n"
          ]
        }
      ]
    },
    {
      "cell_type": "code",
      "metadata": {
        "colab": {
          "base_uri": "https://localhost:8080/",
          "height": 155
        },
        "id": "KL5bbPjW8SQE",
        "outputId": "cc146b23-cf83-4329-c5f0-ed5f13d797bd"
      },
      "source": [
        "## checking test images\n",
        "\n",
        "dataiter = iter(testloader)\n",
        "images, labels = dataiter.next()\n",
        "\n",
        "# print images\n",
        "imshow(torchvision.utils.make_grid(images[:4]))\n",
        "print('GroundTruth: ', ' '.join('%5s' % classes[labels[j]] for j in range(4)))"
      ],
      "execution_count": 9,
      "outputs": [
        {
          "output_type": "stream",
          "name": "stdout",
          "text": [
            "GroundTruth:    cat  ship  ship plane\n"
          ]
        },
        {
          "output_type": "display_data",
          "data": {
            "text/plain": "<Figure size 432x288 with 1 Axes>",
            "image/svg+xml": "<?xml version=\"1.0\" encoding=\"utf-8\" standalone=\"no\"?>\r\n<!DOCTYPE svg PUBLIC \"-//W3C//DTD SVG 1.1//EN\"\r\n  \"http://www.w3.org/Graphics/SVG/1.1/DTD/svg11.dtd\">\r\n<!-- Created with matplotlib (https://matplotlib.org/) -->\r\n<svg height=\"121.003431pt\" version=\"1.1\" viewBox=\"0 0 368.925 121.003431\" width=\"368.925pt\" xmlns=\"http://www.w3.org/2000/svg\" xmlns:xlink=\"http://www.w3.org/1999/xlink\">\r\n <defs>\r\n  <style type=\"text/css\">\r\n*{stroke-linecap:butt;stroke-linejoin:round;}\r\n  </style>\r\n </defs>\r\n <g id=\"figure_1\">\r\n  <g id=\"patch_1\">\r\n   <path d=\"M -0 121.003431 \r\nL 368.925 121.003431 \r\nL 368.925 0 \r\nL -0 0 \r\nz\r\n\" style=\"fill:none;\"/>\r\n  </g>\r\n  <g id=\"axes_1\">\r\n   <g id=\"patch_2\">\r\n    <path d=\"M 26.925 97.125306 \r\nL 361.725 97.125306 \r\nL 361.725 9.786175 \r\nL 26.925 9.786175 \r\nz\r\n\" style=\"fill:#ffffff;\"/>\r\n   </g>\r\n   <g clip-path=\"url(#pa3e0098dfb)\">\r\n    <image height=\"88\" id=\"image50d9ac28e7\" transform=\"scale(1 -1)translate(0 -88)\" width=\"335\" x=\"26.925\" xlink:href=\"data:image/png;base64,\r\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\" y=\"-9.125306\"/>\r\n   </g>\r\n   <g id=\"matplotlib.axis_1\">\r\n    <g id=\"xtick_1\">\r\n     <g id=\"line2d_1\">\r\n      <defs>\r\n       <path d=\"M 0 0 \r\nL 0 3.5 \r\n\" id=\"m6e3984bb28\" style=\"stroke:#000000;stroke-width:0.8;\"/>\r\n      </defs>\r\n      <g>\r\n       <use style=\"stroke:#000000;stroke-width:0.8;\" x=\"28.138043\" xlink:href=\"#m6e3984bb28\" y=\"97.125306\"/>\r\n      </g>\r\n     </g>\r\n     <g id=\"text_1\">\r\n      <!-- 0 -->\r\n      <defs>\r\n       <path d=\"M 31.78125 66.40625 \r\nQ 24.171875 66.40625 20.328125 58.90625 \r\nQ 16.5 51.421875 16.5 36.375 \r\nQ 16.5 21.390625 20.328125 13.890625 \r\nQ 24.171875 6.390625 31.78125 6.390625 \r\nQ 39.453125 6.390625 43.28125 13.890625 \r\nQ 47.125 21.390625 47.125 36.375 \r\nQ 47.125 51.421875 43.28125 58.90625 \r\nQ 39.453125 66.40625 31.78125 66.40625 \r\nz\r\nM 31.78125 74.21875 \r\nQ 44.046875 74.21875 50.515625 64.515625 \r\nQ 56.984375 54.828125 56.984375 36.375 \r\nQ 56.984375 17.96875 50.515625 8.265625 \r\nQ 44.046875 -1.421875 31.78125 -1.421875 \r\nQ 19.53125 -1.421875 13.0625 8.265625 \r\nQ 6.59375 17.96875 6.59375 36.375 \r\nQ 6.59375 54.828125 13.0625 64.515625 \r\nQ 19.53125 74.21875 31.78125 74.21875 \r\nz\r\n\" id=\"DejaVuSans-48\"/>\r\n      </defs>\r\n      <g transform=\"translate(24.956793 111.723743)scale(0.1 -0.1)\">\r\n       <use xlink:href=\"#DejaVuSans-48\"/>\r\n      </g>\r\n     </g>\r\n    </g>\r\n    <g id=\"xtick_2\">\r\n     <g id=\"line2d_2\">\r\n      <g>\r\n       <use style=\"stroke:#000000;stroke-width:0.8;\" x=\"76.659783\" xlink:href=\"#m6e3984bb28\" y=\"97.125306\"/>\r\n      </g>\r\n     </g>\r\n     <g id=\"text_2\">\r\n      <!-- 20 -->\r\n      <defs>\r\n       <path d=\"M 19.1875 8.296875 \r\nL 53.609375 8.296875 \r\nL 53.609375 0 \r\nL 7.328125 0 \r\nL 7.328125 8.296875 \r\nQ 12.9375 14.109375 22.625 23.890625 \r\nQ 32.328125 33.6875 34.8125 36.53125 \r\nQ 39.546875 41.84375 41.421875 45.53125 \r\nQ 43.3125 49.21875 43.3125 52.78125 \r\nQ 43.3125 58.59375 39.234375 62.25 \r\nQ 35.15625 65.921875 28.609375 65.921875 \r\nQ 23.96875 65.921875 18.8125 64.3125 \r\nQ 13.671875 62.703125 7.8125 59.421875 \r\nL 7.8125 69.390625 \r\nQ 13.765625 71.78125 18.9375 73 \r\nQ 24.125 74.21875 28.421875 74.21875 \r\nQ 39.75 74.21875 46.484375 68.546875 \r\nQ 53.21875 62.890625 53.21875 53.421875 \r\nQ 53.21875 48.921875 51.53125 44.890625 \r\nQ 49.859375 40.875 45.40625 35.40625 \r\nQ 44.1875 33.984375 37.640625 27.21875 \r\nQ 31.109375 20.453125 19.1875 8.296875 \r\nz\r\n\" id=\"DejaVuSans-50\"/>\r\n      </defs>\r\n      <g transform=\"translate(70.297283 111.723743)scale(0.1 -0.1)\">\r\n       <use xlink:href=\"#DejaVuSans-50\"/>\r\n       <use x=\"63.623047\" xlink:href=\"#DejaVuSans-48\"/>\r\n      </g>\r\n     </g>\r\n    </g>\r\n    <g id=\"xtick_3\">\r\n     <g id=\"line2d_3\">\r\n      <g>\r\n       <use style=\"stroke:#000000;stroke-width:0.8;\" x=\"125.181522\" xlink:href=\"#m6e3984bb28\" y=\"97.125306\"/>\r\n      </g>\r\n     </g>\r\n     <g id=\"text_3\">\r\n      <!-- 40 -->\r\n      <defs>\r\n       <path d=\"M 37.796875 64.3125 \r\nL 12.890625 25.390625 \r\nL 37.796875 25.390625 \r\nz\r\nM 35.203125 72.90625 \r\nL 47.609375 72.90625 \r\nL 47.609375 25.390625 \r\nL 58.015625 25.390625 \r\nL 58.015625 17.1875 \r\nL 47.609375 17.1875 \r\nL 47.609375 0 \r\nL 37.796875 0 \r\nL 37.796875 17.1875 \r\nL 4.890625 17.1875 \r\nL 4.890625 26.703125 \r\nz\r\n\" id=\"DejaVuSans-52\"/>\r\n      </defs>\r\n      <g transform=\"translate(118.819022 111.723743)scale(0.1 -0.1)\">\r\n       <use xlink:href=\"#DejaVuSans-52\"/>\r\n       <use x=\"63.623047\" xlink:href=\"#DejaVuSans-48\"/>\r\n      </g>\r\n     </g>\r\n    </g>\r\n    <g id=\"xtick_4\">\r\n     <g id=\"line2d_4\">\r\n      <g>\r\n       <use style=\"stroke:#000000;stroke-width:0.8;\" x=\"173.703261\" xlink:href=\"#m6e3984bb28\" y=\"97.125306\"/>\r\n      </g>\r\n     </g>\r\n     <g id=\"text_4\">\r\n      <!-- 60 -->\r\n      <defs>\r\n       <path d=\"M 33.015625 40.375 \r\nQ 26.375 40.375 22.484375 35.828125 \r\nQ 18.609375 31.296875 18.609375 23.390625 \r\nQ 18.609375 15.53125 22.484375 10.953125 \r\nQ 26.375 6.390625 33.015625 6.390625 \r\nQ 39.65625 6.390625 43.53125 10.953125 \r\nQ 47.40625 15.53125 47.40625 23.390625 \r\nQ 47.40625 31.296875 43.53125 35.828125 \r\nQ 39.65625 40.375 33.015625 40.375 \r\nz\r\nM 52.59375 71.296875 \r\nL 52.59375 62.3125 \r\nQ 48.875 64.0625 45.09375 64.984375 \r\nQ 41.3125 65.921875 37.59375 65.921875 \r\nQ 27.828125 65.921875 22.671875 59.328125 \r\nQ 17.53125 52.734375 16.796875 39.40625 \r\nQ 19.671875 43.65625 24.015625 45.921875 \r\nQ 28.375 48.1875 33.59375 48.1875 \r\nQ 44.578125 48.1875 50.953125 41.515625 \r\nQ 57.328125 34.859375 57.328125 23.390625 \r\nQ 57.328125 12.15625 50.6875 5.359375 \r\nQ 44.046875 -1.421875 33.015625 -1.421875 \r\nQ 20.359375 -1.421875 13.671875 8.265625 \r\nQ 6.984375 17.96875 6.984375 36.375 \r\nQ 6.984375 53.65625 15.1875 63.9375 \r\nQ 23.390625 74.21875 37.203125 74.21875 \r\nQ 40.921875 74.21875 44.703125 73.484375 \r\nQ 48.484375 72.75 52.59375 71.296875 \r\nz\r\n\" id=\"DejaVuSans-54\"/>\r\n      </defs>\r\n      <g transform=\"translate(167.340761 111.723743)scale(0.1 -0.1)\">\r\n       <use xlink:href=\"#DejaVuSans-54\"/>\r\n       <use x=\"63.623047\" xlink:href=\"#DejaVuSans-48\"/>\r\n      </g>\r\n     </g>\r\n    </g>\r\n    <g id=\"xtick_5\">\r\n     <g id=\"line2d_5\">\r\n      <g>\r\n       <use style=\"stroke:#000000;stroke-width:0.8;\" x=\"222.225\" xlink:href=\"#m6e3984bb28\" y=\"97.125306\"/>\r\n      </g>\r\n     </g>\r\n     <g id=\"text_5\">\r\n      <!-- 80 -->\r\n      <defs>\r\n       <path d=\"M 31.78125 34.625 \r\nQ 24.75 34.625 20.71875 30.859375 \r\nQ 16.703125 27.09375 16.703125 20.515625 \r\nQ 16.703125 13.921875 20.71875 10.15625 \r\nQ 24.75 6.390625 31.78125 6.390625 \r\nQ 38.8125 6.390625 42.859375 10.171875 \r\nQ 46.921875 13.96875 46.921875 20.515625 \r\nQ 46.921875 27.09375 42.890625 30.859375 \r\nQ 38.875 34.625 31.78125 34.625 \r\nz\r\nM 21.921875 38.8125 \r\nQ 15.578125 40.375 12.03125 44.71875 \r\nQ 8.5 49.078125 8.5 55.328125 \r\nQ 8.5 64.0625 14.71875 69.140625 \r\nQ 20.953125 74.21875 31.78125 74.21875 \r\nQ 42.671875 74.21875 48.875 69.140625 \r\nQ 55.078125 64.0625 55.078125 55.328125 \r\nQ 55.078125 49.078125 51.53125 44.71875 \r\nQ 48 40.375 41.703125 38.8125 \r\nQ 48.828125 37.15625 52.796875 32.3125 \r\nQ 56.78125 27.484375 56.78125 20.515625 \r\nQ 56.78125 9.90625 50.3125 4.234375 \r\nQ 43.84375 -1.421875 31.78125 -1.421875 \r\nQ 19.734375 -1.421875 13.25 4.234375 \r\nQ 6.78125 9.90625 6.78125 20.515625 \r\nQ 6.78125 27.484375 10.78125 32.3125 \r\nQ 14.796875 37.15625 21.921875 38.8125 \r\nz\r\nM 18.3125 54.390625 \r\nQ 18.3125 48.734375 21.84375 45.5625 \r\nQ 25.390625 42.390625 31.78125 42.390625 \r\nQ 38.140625 42.390625 41.71875 45.5625 \r\nQ 45.3125 48.734375 45.3125 54.390625 \r\nQ 45.3125 60.0625 41.71875 63.234375 \r\nQ 38.140625 66.40625 31.78125 66.40625 \r\nQ 25.390625 66.40625 21.84375 63.234375 \r\nQ 18.3125 60.0625 18.3125 54.390625 \r\nz\r\n\" id=\"DejaVuSans-56\"/>\r\n      </defs>\r\n      <g transform=\"translate(215.8625 111.723743)scale(0.1 -0.1)\">\r\n       <use xlink:href=\"#DejaVuSans-56\"/>\r\n       <use x=\"63.623047\" xlink:href=\"#DejaVuSans-48\"/>\r\n      </g>\r\n     </g>\r\n    </g>\r\n    <g id=\"xtick_6\">\r\n     <g id=\"line2d_6\">\r\n      <g>\r\n       <use style=\"stroke:#000000;stroke-width:0.8;\" x=\"270.746739\" xlink:href=\"#m6e3984bb28\" y=\"97.125306\"/>\r\n      </g>\r\n     </g>\r\n     <g id=\"text_6\">\r\n      <!-- 100 -->\r\n      <defs>\r\n       <path d=\"M 12.40625 8.296875 \r\nL 28.515625 8.296875 \r\nL 28.515625 63.921875 \r\nL 10.984375 60.40625 \r\nL 10.984375 69.390625 \r\nL 28.421875 72.90625 \r\nL 38.28125 72.90625 \r\nL 38.28125 8.296875 \r\nL 54.390625 8.296875 \r\nL 54.390625 0 \r\nL 12.40625 0 \r\nz\r\n\" id=\"DejaVuSans-49\"/>\r\n      </defs>\r\n      <g transform=\"translate(261.202989 111.723743)scale(0.1 -0.1)\">\r\n       <use xlink:href=\"#DejaVuSans-49\"/>\r\n       <use x=\"63.623047\" xlink:href=\"#DejaVuSans-48\"/>\r\n       <use x=\"127.246094\" xlink:href=\"#DejaVuSans-48\"/>\r\n      </g>\r\n     </g>\r\n    </g>\r\n    <g id=\"xtick_7\">\r\n     <g id=\"line2d_7\">\r\n      <g>\r\n       <use style=\"stroke:#000000;stroke-width:0.8;\" x=\"319.268478\" xlink:href=\"#m6e3984bb28\" y=\"97.125306\"/>\r\n      </g>\r\n     </g>\r\n     <g id=\"text_7\">\r\n      <!-- 120 -->\r\n      <g transform=\"translate(309.724728 111.723743)scale(0.1 -0.1)\">\r\n       <use xlink:href=\"#DejaVuSans-49\"/>\r\n       <use x=\"63.623047\" xlink:href=\"#DejaVuSans-50\"/>\r\n       <use x=\"127.246094\" xlink:href=\"#DejaVuSans-48\"/>\r\n      </g>\r\n     </g>\r\n    </g>\r\n   </g>\r\n   <g id=\"matplotlib.axis_2\">\r\n    <g id=\"ytick_1\">\r\n     <g id=\"line2d_8\">\r\n      <defs>\r\n       <path d=\"M 0 0 \r\nL -3.5 0 \r\n\" id=\"m863c62a01b\" style=\"stroke:#000000;stroke-width:0.8;\"/>\r\n      </defs>\r\n      <g>\r\n       <use style=\"stroke:#000000;stroke-width:0.8;\" x=\"26.925\" xlink:href=\"#m863c62a01b\" y=\"10.999219\"/>\r\n      </g>\r\n     </g>\r\n     <g id=\"text_8\">\r\n      <!-- 0 -->\r\n      <g transform=\"translate(13.5625 14.798437)scale(0.1 -0.1)\">\r\n       <use xlink:href=\"#DejaVuSans-48\"/>\r\n      </g>\r\n     </g>\r\n    </g>\r\n    <g id=\"ytick_2\">\r\n     <g id=\"line2d_9\">\r\n      <g>\r\n       <use style=\"stroke:#000000;stroke-width:0.8;\" x=\"26.925\" xlink:href=\"#m863c62a01b\" y=\"35.260088\"/>\r\n      </g>\r\n     </g>\r\n     <g id=\"text_9\">\r\n      <!-- 10 -->\r\n      <g transform=\"translate(7.2 39.059307)scale(0.1 -0.1)\">\r\n       <use xlink:href=\"#DejaVuSans-49\"/>\r\n       <use x=\"63.623047\" xlink:href=\"#DejaVuSans-48\"/>\r\n      </g>\r\n     </g>\r\n    </g>\r\n    <g id=\"ytick_3\">\r\n     <g id=\"line2d_10\">\r\n      <g>\r\n       <use style=\"stroke:#000000;stroke-width:0.8;\" x=\"26.925\" xlink:href=\"#m863c62a01b\" y=\"59.520958\"/>\r\n      </g>\r\n     </g>\r\n     <g id=\"text_10\">\r\n      <!-- 20 -->\r\n      <g transform=\"translate(7.2 63.320177)scale(0.1 -0.1)\">\r\n       <use xlink:href=\"#DejaVuSans-50\"/>\r\n       <use x=\"63.623047\" xlink:href=\"#DejaVuSans-48\"/>\r\n      </g>\r\n     </g>\r\n    </g>\r\n    <g id=\"ytick_4\">\r\n     <g id=\"line2d_11\">\r\n      <g>\r\n       <use style=\"stroke:#000000;stroke-width:0.8;\" x=\"26.925\" xlink:href=\"#m863c62a01b\" y=\"83.781827\"/>\r\n      </g>\r\n     </g>\r\n     <g id=\"text_11\">\r\n      <!-- 30 -->\r\n      <defs>\r\n       <path d=\"M 40.578125 39.3125 \r\nQ 47.65625 37.796875 51.625 33 \r\nQ 55.609375 28.21875 55.609375 21.1875 \r\nQ 55.609375 10.40625 48.1875 4.484375 \r\nQ 40.765625 -1.421875 27.09375 -1.421875 \r\nQ 22.515625 -1.421875 17.65625 -0.515625 \r\nQ 12.796875 0.390625 7.625 2.203125 \r\nL 7.625 11.71875 \r\nQ 11.71875 9.328125 16.59375 8.109375 \r\nQ 21.484375 6.890625 26.8125 6.890625 \r\nQ 36.078125 6.890625 40.9375 10.546875 \r\nQ 45.796875 14.203125 45.796875 21.1875 \r\nQ 45.796875 27.640625 41.28125 31.265625 \r\nQ 36.765625 34.90625 28.71875 34.90625 \r\nL 20.21875 34.90625 \r\nL 20.21875 43.015625 \r\nL 29.109375 43.015625 \r\nQ 36.375 43.015625 40.234375 45.921875 \r\nQ 44.09375 48.828125 44.09375 54.296875 \r\nQ 44.09375 59.90625 40.109375 62.90625 \r\nQ 36.140625 65.921875 28.71875 65.921875 \r\nQ 24.65625 65.921875 20.015625 65.03125 \r\nQ 15.375 64.15625 9.8125 62.3125 \r\nL 9.8125 71.09375 \r\nQ 15.4375 72.65625 20.34375 73.4375 \r\nQ 25.25 74.21875 29.59375 74.21875 \r\nQ 40.828125 74.21875 47.359375 69.109375 \r\nQ 53.90625 64.015625 53.90625 55.328125 \r\nQ 53.90625 49.265625 50.4375 45.09375 \r\nQ 46.96875 40.921875 40.578125 39.3125 \r\nz\r\n\" id=\"DejaVuSans-51\"/>\r\n      </defs>\r\n      <g transform=\"translate(7.2 87.581046)scale(0.1 -0.1)\">\r\n       <use xlink:href=\"#DejaVuSans-51\"/>\r\n       <use x=\"63.623047\" xlink:href=\"#DejaVuSans-48\"/>\r\n      </g>\r\n     </g>\r\n    </g>\r\n   </g>\r\n   <g id=\"patch_3\">\r\n    <path d=\"M 26.925 97.125306 \r\nL 26.925 9.786175 \r\n\" style=\"fill:none;stroke:#000000;stroke-linecap:square;stroke-linejoin:miter;stroke-width:0.8;\"/>\r\n   </g>\r\n   <g id=\"patch_4\">\r\n    <path d=\"M 361.725 97.125306 \r\nL 361.725 9.786175 \r\n\" style=\"fill:none;stroke:#000000;stroke-linecap:square;stroke-linejoin:miter;stroke-width:0.8;\"/>\r\n   </g>\r\n   <g id=\"patch_5\">\r\n    <path d=\"M 26.925 97.125306 \r\nL 361.725 97.125306 \r\n\" style=\"fill:none;stroke:#000000;stroke-linecap:square;stroke-linejoin:miter;stroke-width:0.8;\"/>\r\n   </g>\r\n   <g id=\"patch_6\">\r\n    <path d=\"M 26.925 9.786175 \r\nL 361.725 9.786175 \r\n\" style=\"fill:none;stroke:#000000;stroke-linecap:square;stroke-linejoin:miter;stroke-width:0.8;\"/>\r\n   </g>\r\n  </g>\r\n </g>\r\n <defs>\r\n  <clipPath id=\"pa3e0098dfb\">\r\n   <rect height=\"87.33913\" width=\"334.8\" x=\"26.925\" y=\"9.786175\"/>\r\n  </clipPath>\r\n </defs>\r\n</svg>\r\n",
            "image/png": "[encoded data removed]"
          },
          "metadata": {
            "needs_background": "light"
          }
        }
      ]
    },
    {
      "cell_type": "code",
      "metadata": {
        "id": "MXiY5rla4Qqf"
      },
      "source": [
        "from accuracy_check import check_accuracy     \n",
        "check_accuracy(testloader,device,model)"
      ],
      "execution_count": 10,
      "outputs": [
        {
          "output_type": "stream",
          "name": "stdout",
          "text": [
            "Accuracy of the network on the 10000 test images: 82 %\n"
          ]
        },
        {
          "output_type": "execute_result",
          "data": {
            "text/plain": [
              "82.47"
            ]
          },
          "metadata": {},
          "execution_count": 10
        }
      ]
    },
    {
      "cell_type": "code",
      "metadata": {
        "id": "E5BHEtkNIZv8"
      },
      "source": [
        "##82.47%"
      ],
      "execution_count": null,
      "outputs": []
    },
    {
      "cell_type": "code",
      "metadata": {
        "id": "A7W7Fx6aIjPW"
      },
      "source": [],
      "execution_count": null,
      "outputs": []
    }
  ]
}